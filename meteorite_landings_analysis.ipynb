{
 "cells": [
  {
   "cell_type": "markdown",
   "id": "2e7023ca-b6ee-4338-91f5-1776b1d3c3cc",
   "metadata": {},
   "source": [
    "# Meteor Landings Analysis "
   ]
  },
  {
   "cell_type": "markdown",
   "id": "199b4853-ddba-4aab-bb42-fcf2d8fec31a",
   "metadata": {},
   "source": [
    "## Introduction "
   ]
  },
  {
   "cell_type": "markdown",
   "id": "d4d87357-8c13-4ccd-a1bf-702f89068851",
   "metadata": {},
   "source": [
    "1. Context\n",
    "2. Objectives\n",
    "3. Data Description"
   ]
  },
  {
   "cell_type": "markdown",
   "id": "993548e9-a962-4d5c-ac24-c455c8a7f68e",
   "metadata": {},
   "source": [
    "## Importing Libraries "
   ]
  },
  {
   "cell_type": "code",
   "execution_count": 15,
   "id": "933b0678-c83b-41f5-80e8-95f1472dab18",
   "metadata": {},
   "outputs": [],
   "source": [
    "# importing libraries \n",
    "import numpy as np \n",
    "import pandas as pd\n",
    "import math \n",
    "import os \n",
    "\n",
    "# importing visualization \n",
    "import matplotlib.pyplot as plt\n",
    "import seaborn as sns \n",
    "\n",
    "# warnings \n",
    "import warnings \n",
    "warnings.filterwarnings('ignore')"
   ]
  },
  {
   "cell_type": "markdown",
   "id": "548bd6ef-c611-4a30-9f45-5bf12a327649",
   "metadata": {},
   "source": [
    "## Loading the dataset "
   ]
  },
  {
   "cell_type": "code",
   "execution_count": 18,
   "id": "0f5ac9f3-644f-4348-b9d4-6eb79462dc07",
   "metadata": {},
   "outputs": [],
   "source": [
    "# load the dataset \n",
    "df = pd.read_csv('Meteorite_Landings.csv')"
   ]
  },
  {
   "cell_type": "code",
   "execution_count": 20,
   "id": "615c1246-f6e0-4f2a-97cd-7c94f4cdea44",
   "metadata": {},
   "outputs": [],
   "source": [
    "# copy the dataset \n",
    "landing = df.copy()"
   ]
  },
  {
   "cell_type": "markdown",
   "id": "c598db7c-044e-43f4-bc0c-a09afd2eacd1",
   "metadata": {},
   "source": [
    "## EDA "
   ]
  },
  {
   "cell_type": "code",
   "execution_count": 23,
   "id": "33ae2294-6169-432b-862a-567377b26a4a",
   "metadata": {},
   "outputs": [
    {
     "data": {
      "text/html": [
       "<div>\n",
       "<style scoped>\n",
       "    .dataframe tbody tr th:only-of-type {\n",
       "        vertical-align: middle;\n",
       "    }\n",
       "\n",
       "    .dataframe tbody tr th {\n",
       "        vertical-align: top;\n",
       "    }\n",
       "\n",
       "    .dataframe thead th {\n",
       "        text-align: right;\n",
       "    }\n",
       "</style>\n",
       "<table border=\"1\" class=\"dataframe\">\n",
       "  <thead>\n",
       "    <tr style=\"text-align: right;\">\n",
       "      <th></th>\n",
       "      <th>name</th>\n",
       "      <th>id</th>\n",
       "      <th>nametype</th>\n",
       "      <th>recclass</th>\n",
       "      <th>mass (g)</th>\n",
       "      <th>fall</th>\n",
       "      <th>year</th>\n",
       "      <th>reclat</th>\n",
       "      <th>reclong</th>\n",
       "      <th>GeoLocation</th>\n",
       "    </tr>\n",
       "  </thead>\n",
       "  <tbody>\n",
       "    <tr>\n",
       "      <th>0</th>\n",
       "      <td>Aachen</td>\n",
       "      <td>1</td>\n",
       "      <td>Valid</td>\n",
       "      <td>L5</td>\n",
       "      <td>21.0</td>\n",
       "      <td>Fell</td>\n",
       "      <td>1880.0</td>\n",
       "      <td>50.77500</td>\n",
       "      <td>6.08333</td>\n",
       "      <td>(50.775, 6.08333)</td>\n",
       "    </tr>\n",
       "    <tr>\n",
       "      <th>1</th>\n",
       "      <td>Aarhus</td>\n",
       "      <td>2</td>\n",
       "      <td>Valid</td>\n",
       "      <td>H6</td>\n",
       "      <td>720.0</td>\n",
       "      <td>Fell</td>\n",
       "      <td>1951.0</td>\n",
       "      <td>56.18333</td>\n",
       "      <td>10.23333</td>\n",
       "      <td>(56.18333, 10.23333)</td>\n",
       "    </tr>\n",
       "    <tr>\n",
       "      <th>2</th>\n",
       "      <td>Abee</td>\n",
       "      <td>6</td>\n",
       "      <td>Valid</td>\n",
       "      <td>EH4</td>\n",
       "      <td>107000.0</td>\n",
       "      <td>Fell</td>\n",
       "      <td>1952.0</td>\n",
       "      <td>54.21667</td>\n",
       "      <td>-113.00000</td>\n",
       "      <td>(54.21667, -113.0)</td>\n",
       "    </tr>\n",
       "    <tr>\n",
       "      <th>3</th>\n",
       "      <td>Acapulco</td>\n",
       "      <td>10</td>\n",
       "      <td>Valid</td>\n",
       "      <td>Acapulcoite</td>\n",
       "      <td>1914.0</td>\n",
       "      <td>Fell</td>\n",
       "      <td>1976.0</td>\n",
       "      <td>16.88333</td>\n",
       "      <td>-99.90000</td>\n",
       "      <td>(16.88333, -99.9)</td>\n",
       "    </tr>\n",
       "    <tr>\n",
       "      <th>4</th>\n",
       "      <td>Achiras</td>\n",
       "      <td>370</td>\n",
       "      <td>Valid</td>\n",
       "      <td>L6</td>\n",
       "      <td>780.0</td>\n",
       "      <td>Fell</td>\n",
       "      <td>1902.0</td>\n",
       "      <td>-33.16667</td>\n",
       "      <td>-64.95000</td>\n",
       "      <td>(-33.16667, -64.95)</td>\n",
       "    </tr>\n",
       "  </tbody>\n",
       "</table>\n",
       "</div>"
      ],
      "text/plain": [
       "       name   id nametype     recclass  mass (g)  fall    year    reclat  \\\n",
       "0    Aachen    1    Valid           L5      21.0  Fell  1880.0  50.77500   \n",
       "1    Aarhus    2    Valid           H6     720.0  Fell  1951.0  56.18333   \n",
       "2      Abee    6    Valid          EH4  107000.0  Fell  1952.0  54.21667   \n",
       "3  Acapulco   10    Valid  Acapulcoite    1914.0  Fell  1976.0  16.88333   \n",
       "4   Achiras  370    Valid           L6     780.0  Fell  1902.0 -33.16667   \n",
       "\n",
       "     reclong           GeoLocation  \n",
       "0    6.08333     (50.775, 6.08333)  \n",
       "1   10.23333  (56.18333, 10.23333)  \n",
       "2 -113.00000    (54.21667, -113.0)  \n",
       "3  -99.90000     (16.88333, -99.9)  \n",
       "4  -64.95000   (-33.16667, -64.95)  "
      ]
     },
     "execution_count": 23,
     "metadata": {},
     "output_type": "execute_result"
    }
   ],
   "source": [
    "landing.head() "
   ]
  },
  {
   "cell_type": "code",
   "execution_count": null,
   "id": "e626f868-3ef7-4a14-99b0-706fcf7d6c10",
   "metadata": {},
   "outputs": [],
   "source": []
  }
 ],
 "metadata": {
  "kernelspec": {
   "display_name": "Python 3 (ipykernel)",
   "language": "python",
   "name": "python3"
  },
  "language_info": {
   "codemirror_mode": {
    "name": "ipython",
    "version": 3
   },
   "file_extension": ".py",
   "mimetype": "text/x-python",
   "name": "python",
   "nbconvert_exporter": "python",
   "pygments_lexer": "ipython3",
   "version": "3.12.7"
  }
 },
 "nbformat": 4,
 "nbformat_minor": 5
}
